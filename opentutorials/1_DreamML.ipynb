{
  "nbformat": 4,
  "nbformat_minor": 0,
  "metadata": {
    "colab": {
      "name": "DreamML.ipynb",
      "provenance": [],
      "authorship_tag": "ABX9TyPyKYpF+gnLqoYYvR3/eTK+",
      "include_colab_link": true
    },
    "kernelspec": {
      "name": "python3",
      "display_name": "Python 3"
    },
    "language_info": {
      "name": "python"
    }
  },
  "cells": [
    {
      "cell_type": "markdown",
      "metadata": {
        "id": "view-in-github",
        "colab_type": "text"
      },
      "source": [
        "<a href=\"https://colab.research.google.com/github/lovegohome/ML/blob/main/opentutorials/DreamML.ipynb\" target=\"_parent\"><img src=\"https://colab.research.google.com/assets/colab-badge.svg\" alt=\"Open In Colab\"/></a>"
      ]
    },
    {
      "cell_type": "markdown",
      "metadata": {
        "id": "jyu7WKPNXGfe"
      },
      "source": [
        "# With [생활코딩](https://opentutorials.org/) ML-1\n",
        "2021.07.21"
      ]
    },
    {
      "cell_type": "markdown",
      "metadata": {
        "id": "_KuQatJSuSAV"
      },
      "source": [
        "# 1. Orientation"
      ]
    },
    {
      "cell_type": "markdown",
      "metadata": {
        "id": "M8Ann_GpnTNy"
      },
      "source": [
        "Machine Learning = 기계학습\n",
        "- 기계를 학습시켜서 인간의 판단을 위임하기 위해서 고안된 기술\n",
        "  - 머신러닝 통해 구현 가능 예시: 전염병 판단, 자동번역 기계, 자율주행\n"
      ]
    },
    {
      "cell_type": "markdown",
      "metadata": {
        "id": "-Pl459mfsmOE"
      },
      "source": [
        "ML을 제대로 즐기기 위해 필요한 준비물 \n",
        "1. 상상력\n",
        "  - 이 탐험의 '주인공'\n",
        "  - 심각한 '문제' & 구원자인 최소한의 '공부'\n"
      ]
    },
    {
      "cell_type": "markdown",
      "metadata": {
        "id": "UpTIPJaj1VIx"
      },
      "source": [
        "# 2. 머신러닝이란?"
      ]
    },
    {
      "cell_type": "markdown",
      "metadata": {
        "id": "EG8QvM51tXmM"
      },
      "source": [
        "결정 = 비교 + 선택\n",
        "- 비교가 쉽지 않은 현실세계 ex) 노트북 종류, 기능, 가격 등\n",
        "- 그래서 만든 게 숫자, 통계\n",
        "- 더 나아가서 계산을 컴퓨터에 맡김: 결정 능력을 더 잘 쓰도록\n",
        "- 더 나아가서 결정을 컴퓨터에게: 나의 두뇌[판단력]을 더욱 두뇌 답게 쓰도록\n",
        "  - 망원경, 포크레인, 자동차, 머신러닝 = 눈, 손, 발, 두뇌\n",
        "  - 결정 + 하나를 가르치면 10을 아는 총명함(같은 문제, 비슷한 문제 both)\n"
      ]
    },
    {
      "cell_type": "markdown",
      "metadata": {
        "id": "hydQ_nnt1cum"
      },
      "source": [
        "# 3. 꿈"
      ]
    },
    {
      "cell_type": "markdown",
      "metadata": {
        "id": "LsVqF6YX1g8e"
      },
      "source": [
        "- 나의 문제를 ML으로 해결하기 위해 모이고\n",
        "- 엔지니어, 생산자가 되기 위해 모이고\n",
        "- 해결하고자 하는 \"문제\"를 상상하면서 모였다. ex) 습관\n",
        "\n",
        "---------------------------------------\n",
        "\n",
        "- 습관 vs 의지 vs 환경\n",
        "- ML으로 환경을 바꿔서 습관을 바꿀 수는 없을까?\n",
        "\n",
        "  cf. 환경을 독서실로 바꾸는 의지가 습관을 바꾼다. \n",
        "  "
      ]
    },
    {
      "cell_type": "markdown",
      "metadata": {
        "id": "3blpnH5W2c6X"
      },
      "source": [
        "# 4. 궁리하는 습관 \n",
        "- 이 수업이 추구하는 궁극의 목적은 \n",
        "  - ML이라는 도구를 이용할 궁리를 시작하도록 하는 것\n",
        "  - 이런 시대에 궁리하지 않는 것이 얼마나 손해인가요?"
      ]
    },
    {
      "cell_type": "markdown",
      "metadata": {
        "id": "ThtsFbDa2sC3"
      },
      "source": [
        "일 = 하고 싶은 것 [꿈] + 그걸 이뤄주는 [능력]\n",
        "\n",
        "\n",
        "- 꿈과 능력 = 영혼과 육체\n",
        "- 꿈이 능력에 주눅들지 않게 하기 위해 어려운 걸 숨기고 상상력을 발휘하고 꿈을 꾸고 계획을 세워보자. \n",
        "- 이 정도의 궁리면 충분합니다. \n",
        "  - 손톱 - 핸드폰 - app - 다른 습관도 - \"나 이러다 부자 되는 거 아니야?>.<\"\n",
        "\n",
        "\n",
        "-\n",
        "\n",
        "\n",
        "이 수업이 추구하는 궁극의 목적은 \"ML이라는 도구를 이용할 궁리를 시작하도록 하는 것\"\n",
        "\n",
        "\n",
        "```\n",
        "영양분 필요한 걸 체크, 재료와 요리법 체크 \n",
        "```\n",
        "\n"
      ]
    },
    {
      "cell_type": "markdown",
      "metadata": {
        "id": "_Xh7TnA75EzY"
      },
      "source": [
        "# 5. Teachable Machine\n",
        "신기한 재능, 판단력이 생긴 기계"
      ]
    },
    {
      "cell_type": "markdown",
      "metadata": {
        "id": "gdC-YJJG5lCo"
      },
      "source": [
        "- 경험 + 공부 + 재정의 = 정교한 판단력\n",
        "- 사람이 학습하듯 기계 학습시켜서 정확한 판단력을 갖게 하는 것 = ML, 기계학습\n",
        "\n",
        "-\n",
        "\n",
        "- 대신, ML에서는 '판단력'이란 표현 대신 '모델' 이라는 용어를 사용한다. \n",
        "  - 왜지? 왜 모델이라는 용어를 사용하게 됐을까?"
      ]
    },
    {
      "cell_type": "markdown",
      "metadata": {
        "id": "PBQ3ZmAv537A"
      },
      "source": [
        "cf.\n",
        "- 이 수업의 주인공: 설명 듣기 전에 먼저 관찰하고 조작해보자, 그 과정에서 스스로 알게 되는 게 많을 거다. \n",
        "- 신기해 하는 것은 중요합니다. 생산자가 되는데 가장 중요한 재능이에요\n"
      ]
    },
    {
      "cell_type": "markdown",
      "metadata": {
        "id": "IskyOiC56uMI"
      },
      "source": [
        "# 6. Model\n",
        "머신러닝이란 이러한 판단력(모델)을 기계에 부여하는 기술이다."
      ]
    },
    {
      "cell_type": "markdown",
      "metadata": {
        "id": "ZuUakiFm6zoZ"
      },
      "source": [
        "[ ? ] -- 학습 (경험, 교육, 실험) -- 모델 (교훈, 이론, 판단력, 진보하게 만드는 도구) -- 추측 -- 결정\n",
        "\n",
        "\n",
        "\n",
        "```\n",
        "움직임 - 인식 - 빛 : 이것도 머신러닝인가?\n",
        "그럼 내 책상에 '내'가 앉을 때 자동으로 to do list 보여주는 기능?\n",
        "아이언맨!\n",
        "```\n",
        "\n"
      ]
    },
    {
      "cell_type": "markdown",
      "metadata": {
        "id": "rY84EHvO8td7"
      },
      "source": [
        "기분좋죠?\n",
        "\n",
        "기분 좋아하는 것이 진짜 실력이에요. \n",
        "\n",
        "최대한 과장해서 기뻐해주세요 \n",
        "\n",
        "-\n",
        "\n",
        "축하합니다. 박수!\n",
        "\n",
        "완전 흥미진진하고 재미있다, 박수!"
      ]
    },
    {
      "cell_type": "markdown",
      "metadata": {
        "id": "2Kl4qVN_9Edp"
      },
      "source": [
        "by. 이동머신러닝\n",
        "- ~해서 ~하다 = 판단의 의미가 들어간 언어\n",
        "  - 돌맹이는 음식이 아니니깐 먹어서는 안된다.(교훈)\n",
        "  - 늦게 자면 다음 날 피곤하니깐 일찍 자야 한다.(교훈)\n",
        "  - 중력에 의해 허공에 놓인 돌맹이는 떨어진다.(이론)\n",
        "  - 집에만 있으면 비타민 D를 흡수할 수 없어서 건강이 나빠지니깐 틈틈히 밖에 나가줘야 한다.(이론)\n",
        "- 이처럼, 판단을 확장시켜서 생각해보면, 일상에 수많은 모델이 자리 잡고 있다."
      ]
    }
  ]
}
